{
 "cells": [
  {
   "cell_type": "markdown",
   "metadata": {},
   "source": [
    "# Task 1: Introduction\n",
    "\n",
    "---\n",
    "\n",
    "For this project, we are going to work on evaluating price of houses given the following features:\n",
    "\n",
    "1. Year of sale of the house\n",
    "2. The age of the house at the time of sale\n",
    "3. Distance from city center\n",
    "4. Number of stores in the locality\n",
    "5. The latitude\n",
    "6. The longitude\n",
    "\n",
    "![Regression](images/regression.png)\n",
    "\n",
    "Note: This notebook uses `python 3` and these packages: `tensorflow`, `pandas`, `matplotlib`, `scikit-learn`."
   ]
  },
  {
   "cell_type": "markdown",
   "metadata": {},
   "source": [
    "## 1.1: Importing Libraries & Helper Functions\n",
    "\n",
    "First of all, we will need to import some libraries and helper functions. This includes TensorFlow and some utility functions that I've written to save time."
   ]
  },
  {
   "cell_type": "code",
   "execution_count": 1,
   "metadata": {},
   "outputs": [
    {
     "name": "stdout",
     "output_type": "stream",
     "text": [
      "Libraries imported.\n"
     ]
    }
   ],
   "source": [
    "import pandas as pd\n",
    "import matplotlib.pyplot as plt\n",
    "import tensorflow as tf\n",
    "\n",
    "from utils import *\n",
    "from sklearn.model_selection import train_test_split\n",
    "from tensorflow.keras.models import Sequential\n",
    "from tensorflow.keras.layers import Dense, Dropout\n",
    "from tensorflow.keras.callbacks import EarlyStopping, LambdaCallback\n",
    "\n",
    "# %matplotlib inline\n",
    "# tf.logging.set_verbosity(tf.logging.ERROR)\n",
    "\n",
    "print('Libraries imported.')"
   ]
  },
  {
   "cell_type": "markdown",
   "metadata": {},
   "source": [
    "# Task 2: Importing the Data"
   ]
  },
  {
   "cell_type": "markdown",
   "metadata": {},
   "source": [
    "## 2.1: Importing the Data\n",
    "\n",
    "The dataset is saved in a `data.csv` file. We will use `pandas` to take a look at some of the rows."
   ]
  },
  {
   "cell_type": "code",
   "execution_count": 2,
   "metadata": {},
   "outputs": [
    {
     "data": {
      "text/html": [
       "<div>\n",
       "<style scoped>\n",
       "    .dataframe tbody tr th:only-of-type {\n",
       "        vertical-align: middle;\n",
       "    }\n",
       "\n",
       "    .dataframe tbody tr th {\n",
       "        vertical-align: top;\n",
       "    }\n",
       "\n",
       "    .dataframe thead th {\n",
       "        text-align: right;\n",
       "    }\n",
       "</style>\n",
       "<table border=\"1\" class=\"dataframe\">\n",
       "  <thead>\n",
       "    <tr style=\"text-align: right;\">\n",
       "      <th></th>\n",
       "      <th>serial</th>\n",
       "      <th>date</th>\n",
       "      <th>age</th>\n",
       "      <th>distance</th>\n",
       "      <th>stores</th>\n",
       "      <th>latitude</th>\n",
       "      <th>longitude</th>\n",
       "      <th>price</th>\n",
       "    </tr>\n",
       "  </thead>\n",
       "  <tbody>\n",
       "    <tr>\n",
       "      <th>0</th>\n",
       "      <td>0</td>\n",
       "      <td>2009</td>\n",
       "      <td>21</td>\n",
       "      <td>9</td>\n",
       "      <td>6</td>\n",
       "      <td>84</td>\n",
       "      <td>121</td>\n",
       "      <td>14264</td>\n",
       "    </tr>\n",
       "    <tr>\n",
       "      <th>1</th>\n",
       "      <td>1</td>\n",
       "      <td>2007</td>\n",
       "      <td>4</td>\n",
       "      <td>2</td>\n",
       "      <td>3</td>\n",
       "      <td>86</td>\n",
       "      <td>121</td>\n",
       "      <td>12032</td>\n",
       "    </tr>\n",
       "    <tr>\n",
       "      <th>2</th>\n",
       "      <td>2</td>\n",
       "      <td>2016</td>\n",
       "      <td>18</td>\n",
       "      <td>3</td>\n",
       "      <td>7</td>\n",
       "      <td>90</td>\n",
       "      <td>120</td>\n",
       "      <td>13560</td>\n",
       "    </tr>\n",
       "    <tr>\n",
       "      <th>3</th>\n",
       "      <td>3</td>\n",
       "      <td>2002</td>\n",
       "      <td>13</td>\n",
       "      <td>2</td>\n",
       "      <td>2</td>\n",
       "      <td>80</td>\n",
       "      <td>128</td>\n",
       "      <td>12029</td>\n",
       "    </tr>\n",
       "    <tr>\n",
       "      <th>4</th>\n",
       "      <td>4</td>\n",
       "      <td>2014</td>\n",
       "      <td>25</td>\n",
       "      <td>5</td>\n",
       "      <td>8</td>\n",
       "      <td>81</td>\n",
       "      <td>122</td>\n",
       "      <td>14157</td>\n",
       "    </tr>\n",
       "  </tbody>\n",
       "</table>\n",
       "</div>"
      ],
      "text/plain": [
       "   serial  date  age  distance  stores  latitude  longitude  price\n",
       "0       0  2009   21         9       6        84        121  14264\n",
       "1       1  2007    4         2       3        86        121  12032\n",
       "2       2  2016   18         3       7        90        120  13560\n",
       "3       3  2002   13         2       2        80        128  12029\n",
       "4       4  2014   25         5       8        81        122  14157"
      ]
     },
     "execution_count": 2,
     "metadata": {},
     "output_type": "execute_result"
    }
   ],
   "source": [
    "df = pd.read_csv('data.csv', names = column_names) \n",
    "df.head()"
   ]
  },
  {
   "cell_type": "markdown",
   "metadata": {},
   "source": [
    "## 2.2: Check Missing Data\n",
    "\n",
    "It's a good practice to check if the data has any missing values. In real world data, this is quite common and must be taken care of before any data pre-processing or model training."
   ]
  },
  {
   "cell_type": "code",
   "execution_count": 3,
   "metadata": {},
   "outputs": [
    {
     "data": {
      "text/plain": [
       "serial       0\n",
       "date         0\n",
       "age          0\n",
       "distance     0\n",
       "stores       0\n",
       "latitude     0\n",
       "longitude    0\n",
       "price        0\n",
       "dtype: int64"
      ]
     },
     "execution_count": 3,
     "metadata": {},
     "output_type": "execute_result"
    }
   ],
   "source": [
    "df.isna().sum()"
   ]
  },
  {
   "cell_type": "markdown",
   "metadata": {},
   "source": [
    "# Task 3: Data Normalization"
   ]
  },
  {
   "cell_type": "markdown",
   "metadata": {},
   "source": [
    "## 3.1: Data Normalization\n",
    "\n",
    "We can make it easier for optimization algorithms to find minimas by normalizing the data before training a model."
   ]
  },
  {
   "cell_type": "code",
   "execution_count": 4,
   "metadata": {},
   "outputs": [
    {
     "data": {
      "text/html": [
       "<div>\n",
       "<style scoped>\n",
       "    .dataframe tbody tr th:only-of-type {\n",
       "        vertical-align: middle;\n",
       "    }\n",
       "\n",
       "    .dataframe tbody tr th {\n",
       "        vertical-align: top;\n",
       "    }\n",
       "\n",
       "    .dataframe thead th {\n",
       "        text-align: right;\n",
       "    }\n",
       "</style>\n",
       "<table border=\"1\" class=\"dataframe\">\n",
       "  <thead>\n",
       "    <tr style=\"text-align: right;\">\n",
       "      <th></th>\n",
       "      <th>date</th>\n",
       "      <th>age</th>\n",
       "      <th>distance</th>\n",
       "      <th>stores</th>\n",
       "      <th>latitude</th>\n",
       "      <th>longitude</th>\n",
       "      <th>price</th>\n",
       "    </tr>\n",
       "  </thead>\n",
       "  <tbody>\n",
       "    <tr>\n",
       "      <th>0</th>\n",
       "      <td>0.015978</td>\n",
       "      <td>0.181384</td>\n",
       "      <td>1.257002</td>\n",
       "      <td>0.345224</td>\n",
       "      <td>-0.307212</td>\n",
       "      <td>-1.260799</td>\n",
       "      <td>0.350088</td>\n",
       "    </tr>\n",
       "    <tr>\n",
       "      <th>1</th>\n",
       "      <td>-0.350485</td>\n",
       "      <td>-1.319118</td>\n",
       "      <td>-0.930610</td>\n",
       "      <td>-0.609312</td>\n",
       "      <td>0.325301</td>\n",
       "      <td>-1.260799</td>\n",
       "      <td>-1.836486</td>\n",
       "    </tr>\n",
       "    <tr>\n",
       "      <th>2</th>\n",
       "      <td>1.298598</td>\n",
       "      <td>-0.083410</td>\n",
       "      <td>-0.618094</td>\n",
       "      <td>0.663402</td>\n",
       "      <td>1.590328</td>\n",
       "      <td>-1.576456</td>\n",
       "      <td>-0.339584</td>\n",
       "    </tr>\n",
       "    <tr>\n",
       "      <th>3</th>\n",
       "      <td>-1.266643</td>\n",
       "      <td>-0.524735</td>\n",
       "      <td>-0.930610</td>\n",
       "      <td>-0.927491</td>\n",
       "      <td>-1.572238</td>\n",
       "      <td>0.948803</td>\n",
       "      <td>-1.839425</td>\n",
       "    </tr>\n",
       "    <tr>\n",
       "      <th>4</th>\n",
       "      <td>0.932135</td>\n",
       "      <td>0.534444</td>\n",
       "      <td>0.006938</td>\n",
       "      <td>0.981581</td>\n",
       "      <td>-1.255981</td>\n",
       "      <td>-0.945141</td>\n",
       "      <td>0.245266</td>\n",
       "    </tr>\n",
       "  </tbody>\n",
       "</table>\n",
       "</div>"
      ],
      "text/plain": [
       "       date       age  distance    stores  latitude  longitude     price\n",
       "0  0.015978  0.181384  1.257002  0.345224 -0.307212  -1.260799  0.350088\n",
       "1 -0.350485 -1.319118 -0.930610 -0.609312  0.325301  -1.260799 -1.836486\n",
       "2  1.298598 -0.083410 -0.618094  0.663402  1.590328  -1.576456 -0.339584\n",
       "3 -1.266643 -0.524735 -0.930610 -0.927491 -1.572238   0.948803 -1.839425\n",
       "4  0.932135  0.534444  0.006938  0.981581 -1.255981  -0.945141  0.245266"
      ]
     },
     "execution_count": 4,
     "metadata": {},
     "output_type": "execute_result"
    }
   ],
   "source": [
    "df = df.iloc[:,1:]\n",
    "df_norm = (df - df.mean()) / df.std()\n",
    "df_norm.head()"
   ]
  },
  {
   "cell_type": "markdown",
   "metadata": {},
   "source": [
    "## 3.2: Convert Label Value\n",
    "\n",
    "Because we are using normalized values for the labels, we will get the predictions back from a trained model in the same distribution. So, we need to convert the predicted values back to the original distribution if we want predicted prices."
   ]
  },
  {
   "cell_type": "code",
   "execution_count": 5,
   "metadata": {},
   "outputs": [
    {
     "name": "stdout",
     "output_type": "stream",
     "text": [
      "14263\n"
     ]
    }
   ],
   "source": [
    "y_mean = df['price'].mean()\n",
    "y_std = df['price'].std()\n",
    "\n",
    "def convert_label_value(pred):\n",
    "    return int(pred * y_std + y_mean)\n",
    "\n",
    "print(convert_label_value(0.350088))"
   ]
  },
  {
   "cell_type": "markdown",
   "metadata": {},
   "source": [
    "# Task 4: Create Training and Test Sets"
   ]
  },
  {
   "cell_type": "markdown",
   "metadata": {},
   "source": [
    "## 4.1: Select Features\n",
    "\n",
    "Make sure to remove the column __price__ from the list of features as it is the label and should not be used as a feature."
   ]
  },
  {
   "cell_type": "code",
   "execution_count": 6,
   "metadata": {},
   "outputs": [
    {
     "data": {
      "text/html": [
       "<div>\n",
       "<style scoped>\n",
       "    .dataframe tbody tr th:only-of-type {\n",
       "        vertical-align: middle;\n",
       "    }\n",
       "\n",
       "    .dataframe tbody tr th {\n",
       "        vertical-align: top;\n",
       "    }\n",
       "\n",
       "    .dataframe thead th {\n",
       "        text-align: right;\n",
       "    }\n",
       "</style>\n",
       "<table border=\"1\" class=\"dataframe\">\n",
       "  <thead>\n",
       "    <tr style=\"text-align: right;\">\n",
       "      <th></th>\n",
       "      <th>date</th>\n",
       "      <th>age</th>\n",
       "      <th>distance</th>\n",
       "      <th>stores</th>\n",
       "      <th>latitude</th>\n",
       "      <th>longitude</th>\n",
       "    </tr>\n",
       "  </thead>\n",
       "  <tbody>\n",
       "    <tr>\n",
       "      <th>0</th>\n",
       "      <td>0.015978</td>\n",
       "      <td>0.181384</td>\n",
       "      <td>1.257002</td>\n",
       "      <td>0.345224</td>\n",
       "      <td>-0.307212</td>\n",
       "      <td>-1.260799</td>\n",
       "    </tr>\n",
       "    <tr>\n",
       "      <th>1</th>\n",
       "      <td>-0.350485</td>\n",
       "      <td>-1.319118</td>\n",
       "      <td>-0.930610</td>\n",
       "      <td>-0.609312</td>\n",
       "      <td>0.325301</td>\n",
       "      <td>-1.260799</td>\n",
       "    </tr>\n",
       "    <tr>\n",
       "      <th>2</th>\n",
       "      <td>1.298598</td>\n",
       "      <td>-0.083410</td>\n",
       "      <td>-0.618094</td>\n",
       "      <td>0.663402</td>\n",
       "      <td>1.590328</td>\n",
       "      <td>-1.576456</td>\n",
       "    </tr>\n",
       "    <tr>\n",
       "      <th>3</th>\n",
       "      <td>-1.266643</td>\n",
       "      <td>-0.524735</td>\n",
       "      <td>-0.930610</td>\n",
       "      <td>-0.927491</td>\n",
       "      <td>-1.572238</td>\n",
       "      <td>0.948803</td>\n",
       "    </tr>\n",
       "    <tr>\n",
       "      <th>4</th>\n",
       "      <td>0.932135</td>\n",
       "      <td>0.534444</td>\n",
       "      <td>0.006938</td>\n",
       "      <td>0.981581</td>\n",
       "      <td>-1.255981</td>\n",
       "      <td>-0.945141</td>\n",
       "    </tr>\n",
       "  </tbody>\n",
       "</table>\n",
       "</div>"
      ],
      "text/plain": [
       "       date       age  distance    stores  latitude  longitude\n",
       "0  0.015978  0.181384  1.257002  0.345224 -0.307212  -1.260799\n",
       "1 -0.350485 -1.319118 -0.930610 -0.609312  0.325301  -1.260799\n",
       "2  1.298598 -0.083410 -0.618094  0.663402  1.590328  -1.576456\n",
       "3 -1.266643 -0.524735 -0.930610 -0.927491 -1.572238   0.948803\n",
       "4  0.932135  0.534444  0.006938  0.981581 -1.255981  -0.945141"
      ]
     },
     "execution_count": 6,
     "metadata": {},
     "output_type": "execute_result"
    }
   ],
   "source": [
    "X = df_norm.iloc[:, :6]\n",
    "X.head()"
   ]
  },
  {
   "cell_type": "markdown",
   "metadata": {},
   "source": [
    "## 4.2: Select Labels"
   ]
  },
  {
   "cell_type": "code",
   "execution_count": 7,
   "metadata": {},
   "outputs": [
    {
     "data": {
      "text/plain": [
       "0    0.350088\n",
       "1   -1.836486\n",
       "2   -0.339584\n",
       "3   -1.839425\n",
       "4    0.245266\n",
       "Name: price, dtype: float64"
      ]
     },
     "execution_count": 7,
     "metadata": {},
     "output_type": "execute_result"
    }
   ],
   "source": [
    "Y = df_norm.iloc[:, -1]\n",
    "Y.head()"
   ]
  },
  {
   "cell_type": "markdown",
   "metadata": {},
   "source": [
    "## 4.3: Feature and Label Values\n",
    "\n",
    "We will need to extract just the numeric values for the features and labels as the TensorFlow model will expect just numeric values as input."
   ]
  },
  {
   "cell_type": "code",
   "execution_count": 8,
   "metadata": {},
   "outputs": [
    {
     "name": "stdout",
     "output_type": "stream",
     "text": [
      "X_arr shape:  (5000, 6)\n",
      "Y_arr shape:  (5000,)\n"
     ]
    }
   ],
   "source": [
    "X_arr = X.values\n",
    "Y_arr = Y.values\n",
    "\n",
    "print('X_arr shape: ', X_arr.shape)\n",
    "print('Y_arr shape: ', Y_arr.shape)"
   ]
  },
  {
   "cell_type": "markdown",
   "metadata": {},
   "source": [
    "## 4.4: Train and Test Split\n",
    "\n",
    "We will keep some part of the data aside as a __test__ set. The model will not use this set during training and it will be used only for checking the performance of the model in trained and un-trained states. This way, we can make sure that we are going in the right direction with our model training."
   ]
  },
  {
   "cell_type": "code",
   "execution_count": 9,
   "metadata": {},
   "outputs": [
    {
     "name": "stdout",
     "output_type": "stream",
     "text": [
      "X_train shape:  (4750, 6)\n",
      "y_train shape:  (4750,)\n",
      "X_test shape:  (250, 6)\n",
      "y_test shape:  (250,)\n"
     ]
    }
   ],
   "source": [
    "X_train, X_test, y_train, y_test = train_test_split(X_arr, Y_arr, test_size = 0.05, shuffle = True, random_state=0)\n",
    "\n",
    "print('X_train shape: ', X_train.shape)\n",
    "print('y_train shape: ', y_train.shape)\n",
    "print('X_test shape: ', X_test.shape)\n",
    "print('y_test shape: ', y_test.shape)"
   ]
  },
  {
   "cell_type": "markdown",
   "metadata": {},
   "source": [
    "# Task 5: Create the Model"
   ]
  },
  {
   "cell_type": "markdown",
   "metadata": {},
   "source": [
    "## 5.1: Create the Model\n",
    "\n",
    "Let's write a function that returns an untrained model of a certain architecture."
   ]
  },
  {
   "cell_type": "code",
   "execution_count": 10,
   "metadata": {},
   "outputs": [
    {
     "name": "stdout",
     "output_type": "stream",
     "text": [
      "Model: \"sequential\"\n",
      "_________________________________________________________________\n",
      "Layer (type)                 Output Shape              Param #   \n",
      "=================================================================\n",
      "dense (Dense)                (None, 10)                70        \n",
      "_________________________________________________________________\n",
      "dense_1 (Dense)              (None, 20)                220       \n",
      "_________________________________________________________________\n",
      "dense_2 (Dense)              (None, 5)                 105       \n",
      "_________________________________________________________________\n",
      "dense_3 (Dense)              (None, 1)                 6         \n",
      "=================================================================\n",
      "Total params: 401\n",
      "Trainable params: 401\n",
      "Non-trainable params: 0\n",
      "_________________________________________________________________\n"
     ]
    }
   ],
   "source": [
    "def get_model():\n",
    "    \n",
    "    model = Sequential([\n",
    "        Dense(10, input_shape = (6,), activation = 'relu'),\n",
    "        Dense(20, activation = 'relu'),\n",
    "        Dense(5, activation = 'relu'),\n",
    "        Dense(1)\n",
    "    ])\n",
    "\n",
    "    model.compile(\n",
    "        loss='mse',\n",
    "        optimizer='adadelta'\n",
    "    )\n",
    "    \n",
    "    return model\n",
    "\n",
    "model = get_model()\n",
    "model.summary()"
   ]
  },
  {
   "cell_type": "markdown",
   "metadata": {},
   "source": [
    "# Task 6: Model Training"
   ]
  },
  {
   "cell_type": "markdown",
   "metadata": {},
   "source": [
    "## 6.1: Model Training\n",
    "\n",
    "We can use an `EarlyStopping` callback from Keras to stop the model training if the validation loss stops decreasing for a few epochs."
   ]
  },
  {
   "cell_type": "code",
   "execution_count": 11,
   "metadata": {},
   "outputs": [
    {
     "name": "stdout",
     "output_type": "stream",
     "text": [
      "Train on 4750 samples, validate on 250 samples\n",
      "Epoch 1/100\n",
      "4750/4750 [==============================] - 2s 330us/sample - loss: 1.2387 - val_loss: 1.0684\n",
      "Epoch 2/100\n",
      "4750/4750 [==============================] - 0s 82us/sample - loss: 1.2357 - val_loss: 1.0659\n",
      "Epoch 3/100\n",
      "4750/4750 [==============================] - 0s 78us/sample - loss: 1.2328 - val_loss: 1.0635\n",
      "Epoch 4/100\n",
      "4750/4750 [==============================] - 0s 90us/sample - loss: 1.2299 - val_loss: 1.0610\n",
      "Epoch 5/100\n",
      "4750/4750 [==============================] - 0s 73us/sample - loss: 1.2270 - val_loss: 1.0586\n",
      "Epoch 6/100\n",
      "4750/4750 [==============================] - 0s 93us/sample - loss: 1.2241 - val_loss: 1.0562\n",
      "Epoch 7/100\n",
      "4750/4750 [==============================] - 1s 127us/sample - loss: 1.2213 - val_loss: 1.0539\n",
      "Epoch 8/100\n",
      "4750/4750 [==============================] - 1s 107us/sample - loss: 1.2185 - val_loss: 1.0515\n",
      "Epoch 9/100\n",
      "4750/4750 [==============================] - 0s 79us/sample - loss: 1.2157 - val_loss: 1.0492\n",
      "Epoch 10/100\n",
      "4750/4750 [==============================] - 0s 87us/sample - loss: 1.2129 - val_loss: 1.0468\n",
      "Epoch 11/100\n",
      "4750/4750 [==============================] - 0s 77us/sample - loss: 1.2101 - val_loss: 1.0445\n",
      "Epoch 12/100\n",
      "4750/4750 [==============================] - 0s 75us/sample - loss: 1.2073 - val_loss: 1.0421\n",
      "Epoch 13/100\n",
      "4750/4750 [==============================] - 0s 77us/sample - loss: 1.2046 - val_loss: 1.0398\n",
      "Epoch 14/100\n",
      "4750/4750 [==============================] - 0s 73us/sample - loss: 1.2019 - val_loss: 1.0375\n",
      "Epoch 15/100\n",
      "4750/4750 [==============================] - 0s 81us/sample - loss: 1.1991 - val_loss: 1.0353\n",
      "Epoch 16/100\n",
      "4750/4750 [==============================] - 0s 80us/sample - loss: 1.1964 - val_loss: 1.0330\n",
      "Epoch 17/100\n",
      "4750/4750 [==============================] - 0s 74us/sample - loss: 1.1937 - val_loss: 1.0307\n",
      "Epoch 18/100\n",
      "4750/4750 [==============================] - 0s 78us/sample - loss: 1.1910 - val_loss: 1.0284\n",
      "Epoch 19/100\n",
      "4750/4750 [==============================] - 0s 72us/sample - loss: 1.1883 - val_loss: 1.0261\n",
      "Epoch 20/100\n",
      "4750/4750 [==============================] - 0s 100us/sample - loss: 1.1856 - val_loss: 1.0239\n",
      "Epoch 21/100\n",
      "4750/4750 [==============================] - 1s 125us/sample - loss: 1.1829 - val_loss: 1.0216\n",
      "Epoch 22/100\n",
      "4750/4750 [==============================] - 0s 74us/sample - loss: 1.1802 - val_loss: 1.0194\n",
      "Epoch 23/100\n",
      "4750/4750 [==============================] - 0s 73us/sample - loss: 1.1776 - val_loss: 1.0172\n",
      "Epoch 24/100\n",
      "4750/4750 [==============================] - 0s 74us/sample - loss: 1.1749 - val_loss: 1.0149\n",
      "Epoch 25/100\n",
      "4750/4750 [==============================] - 0s 73us/sample - loss: 1.1722 - val_loss: 1.0127\n",
      "Epoch 26/100\n",
      "4750/4750 [==============================] - 0s 78us/sample - loss: 1.1695 - val_loss: 1.0104\n",
      "Epoch 27/100\n",
      "4750/4750 [==============================] - 0s 74us/sample - loss: 1.1668 - val_loss: 1.0082\n",
      "Epoch 28/100\n",
      "4750/4750 [==============================] - 0s 79us/sample - loss: 1.1642 - val_loss: 1.0060\n",
      "Epoch 29/100\n",
      "4750/4750 [==============================] - 0s 74us/sample - loss: 1.1615 - val_loss: 1.0038\n",
      "Epoch 30/100\n",
      "4750/4750 [==============================] - 0s 77us/sample - loss: 1.1589 - val_loss: 1.0016\n",
      "Epoch 31/100\n",
      "4750/4750 [==============================] - 0s 74us/sample - loss: 1.1563 - val_loss: 0.9994\n",
      "Epoch 32/100\n",
      "4750/4750 [==============================] - 0s 80us/sample - loss: 1.1536 - val_loss: 0.9972\n",
      "Epoch 33/100\n",
      "4750/4750 [==============================] - 0s 84us/sample - loss: 1.1510 - val_loss: 0.9950\n",
      "Epoch 34/100\n",
      "4750/4750 [==============================] - 0s 81us/sample - loss: 1.1484 - val_loss: 0.9928\n",
      "Epoch 35/100\n",
      "4750/4750 [==============================] - 1s 161us/sample - loss: 1.1458 - val_loss: 0.9907\n",
      "Epoch 36/100\n",
      "4750/4750 [==============================] - 0s 80us/sample - loss: 1.1433 - val_loss: 0.9885\n",
      "Epoch 37/100\n",
      "4750/4750 [==============================] - 0s 74us/sample - loss: 1.1407 - val_loss: 0.9864\n",
      "Epoch 38/100\n",
      "4750/4750 [==============================] - 0s 78us/sample - loss: 1.1381 - val_loss: 0.9842\n",
      "Epoch 39/100\n",
      "4750/4750 [==============================] - 0s 74us/sample - loss: 1.1355 - val_loss: 0.9821\n",
      "Epoch 40/100\n",
      "4750/4750 [==============================] - 0s 79us/sample - loss: 1.1330 - val_loss: 0.9800\n",
      "Epoch 41/100\n",
      "4750/4750 [==============================] - 0s 75us/sample - loss: 1.1305 - val_loss: 0.9779\n",
      "Epoch 42/100\n",
      "4750/4750 [==============================] - 0s 73us/sample - loss: 1.1281 - val_loss: 0.9758\n",
      "Epoch 43/100\n",
      "4750/4750 [==============================] - 0s 77us/sample - loss: 1.1256 - val_loss: 0.9737\n",
      "Epoch 44/100\n",
      "4750/4750 [==============================] - 0s 80us/sample - loss: 1.1231 - val_loss: 0.9717\n",
      "Epoch 45/100\n",
      "4750/4750 [==============================] - 0s 91us/sample - loss: 1.1206 - val_loss: 0.9695\n",
      "Epoch 46/100\n",
      "4750/4750 [==============================] - 0s 91us/sample - loss: 1.1181 - val_loss: 0.9674\n",
      "Epoch 47/100\n",
      "4750/4750 [==============================] - 1s 106us/sample - loss: 1.1156 - val_loss: 0.9653\n",
      "Epoch 48/100\n",
      "4750/4750 [==============================] - 1s 115us/sample - loss: 1.1131 - val_loss: 0.9632\n",
      "Epoch 49/100\n",
      "4750/4750 [==============================] - 1s 136us/sample - loss: 1.1106 - val_loss: 0.9612\n",
      "Epoch 50/100\n",
      "4750/4750 [==============================] - 0s 73us/sample - loss: 1.1081 - val_loss: 0.9591\n",
      "Epoch 51/100\n",
      "4750/4750 [==============================] - 0s 75us/sample - loss: 1.1057 - val_loss: 0.9571\n",
      "Epoch 52/100\n",
      "4750/4750 [==============================] - 0s 74us/sample - loss: 1.1032 - val_loss: 0.9550\n",
      "Epoch 53/100\n",
      "4750/4750 [==============================] - 0s 68us/sample - loss: 1.1008 - val_loss: 0.9530\n",
      "Epoch 54/100\n",
      "4750/4750 [==============================] - 0s 68us/sample - loss: 1.0983 - val_loss: 0.9509\n",
      "Epoch 55/100\n",
      "4750/4750 [==============================] - 0s 69us/sample - loss: 1.0959 - val_loss: 0.9489\n",
      "Epoch 56/100\n",
      "4750/4750 [==============================] - 0s 74us/sample - loss: 1.0934 - val_loss: 0.9468\n",
      "Epoch 57/100\n",
      "4750/4750 [==============================] - 0s 76us/sample - loss: 1.0909 - val_loss: 0.9448\n",
      "Epoch 58/100\n",
      "4750/4750 [==============================] - 0s 84us/sample - loss: 1.0885 - val_loss: 0.9427\n",
      "Epoch 59/100\n",
      "4750/4750 [==============================] - 0s 88us/sample - loss: 1.0861 - val_loss: 0.9407\n",
      "Epoch 60/100\n",
      "4750/4750 [==============================] - 0s 82us/sample - loss: 1.0837 - val_loss: 0.9386\n",
      "Epoch 61/100\n",
      "4750/4750 [==============================] - 0s 61us/sample - loss: 1.0813 - val_loss: 0.9366\n",
      "Epoch 62/100\n",
      "4750/4750 [==============================] - 0s 82us/sample - loss: 1.0789 - val_loss: 0.9346\n",
      "Epoch 63/100\n",
      "4750/4750 [==============================] - 1s 127us/sample - loss: 1.0765 - val_loss: 0.9326\n",
      "Epoch 64/100\n",
      "4750/4750 [==============================] - 0s 83us/sample - loss: 1.0742 - val_loss: 0.9306\n",
      "Epoch 65/100\n",
      "4750/4750 [==============================] - 0s 65us/sample - loss: 1.0718 - val_loss: 0.9287\n",
      "Epoch 66/100\n",
      "4750/4750 [==============================] - 0s 61us/sample - loss: 1.0695 - val_loss: 0.9267\n",
      "Epoch 67/100\n",
      "4750/4750 [==============================] - 0s 61us/sample - loss: 1.0672 - val_loss: 0.9247\n",
      "Epoch 68/100\n",
      "4750/4750 [==============================] - 0s 80us/sample - loss: 1.0649 - val_loss: 0.9228\n",
      "Epoch 69/100\n",
      "4750/4750 [==============================] - 0s 85us/sample - loss: 1.0626 - val_loss: 0.9209\n",
      "Epoch 70/100\n",
      "4750/4750 [==============================] - 0s 80us/sample - loss: 1.0603 - val_loss: 0.9190\n",
      "Epoch 71/100\n",
      "4750/4750 [==============================] - 0s 74us/sample - loss: 1.0580 - val_loss: 0.9170\n",
      "Epoch 72/100\n",
      "4750/4750 [==============================] - 0s 67us/sample - loss: 1.0558 - val_loss: 0.9151\n",
      "Epoch 73/100\n",
      "4750/4750 [==============================] - 0s 65us/sample - loss: 1.0535 - val_loss: 0.9132\n",
      "Epoch 74/100\n",
      "4750/4750 [==============================] - 0s 91us/sample - loss: 1.0512 - val_loss: 0.9113\n",
      "Epoch 75/100\n",
      "4750/4750 [==============================] - 0s 101us/sample - loss: 1.0489 - val_loss: 0.9094\n",
      "Epoch 76/100\n",
      "4750/4750 [==============================] - 0s 81us/sample - loss: 1.0467 - val_loss: 0.9075\n",
      "Epoch 77/100\n"
     ]
    },
    {
     "name": "stdout",
     "output_type": "stream",
     "text": [
      "4750/4750 [==============================] - 1s 109us/sample - loss: 1.0445 - val_loss: 0.9055\n",
      "Epoch 78/100\n",
      "4750/4750 [==============================] - 1s 119us/sample - loss: 1.0422 - val_loss: 0.9036\n",
      "Epoch 79/100\n",
      "4750/4750 [==============================] - 0s 73us/sample - loss: 1.0399 - val_loss: 0.9017\n",
      "Epoch 80/100\n",
      "4750/4750 [==============================] - 0s 72us/sample - loss: 1.0377 - val_loss: 0.8998\n",
      "Epoch 81/100\n",
      "4750/4750 [==============================] - 0s 88us/sample - loss: 1.0355 - val_loss: 0.8980\n",
      "Epoch 82/100\n",
      "4750/4750 [==============================] - 0s 68us/sample - loss: 1.0333 - val_loss: 0.8961\n",
      "Epoch 83/100\n",
      "4750/4750 [==============================] - 0s 72us/sample - loss: 1.0311 - val_loss: 0.8943\n",
      "Epoch 84/100\n",
      "4750/4750 [==============================] - 0s 74us/sample - loss: 1.0289 - val_loss: 0.8924\n",
      "Epoch 85/100\n",
      "4750/4750 [==============================] - 0s 94us/sample - loss: 1.0267 - val_loss: 0.8906\n",
      "Epoch 86/100\n",
      "4750/4750 [==============================] - 0s 83us/sample - loss: 1.0246 - val_loss: 0.8888\n",
      "Epoch 87/100\n",
      "4750/4750 [==============================] - 0s 71us/sample - loss: 1.0224 - val_loss: 0.8869\n",
      "Epoch 88/100\n",
      "4750/4750 [==============================] - 0s 70us/sample - loss: 1.0202 - val_loss: 0.8851\n",
      "Epoch 89/100\n",
      "4750/4750 [==============================] - 0s 63us/sample - loss: 1.0181 - val_loss: 0.8833\n",
      "Epoch 90/100\n",
      "4750/4750 [==============================] - 0s 69us/sample - loss: 1.0159 - val_loss: 0.8815\n",
      "Epoch 91/100\n",
      "4750/4750 [==============================] - 0s 69us/sample - loss: 1.0138 - val_loss: 0.8797\n",
      "Epoch 92/100\n",
      "4750/4750 [==============================] - 1s 129us/sample - loss: 1.0117 - val_loss: 0.8780\n",
      "Epoch 93/100\n",
      "4750/4750 [==============================] - 0s 99us/sample - loss: 1.0096 - val_loss: 0.8762\n",
      "Epoch 94/100\n",
      "4750/4750 [==============================] - 1s 113us/sample - loss: 1.0075 - val_loss: 0.8745\n",
      "Epoch 95/100\n",
      "4750/4750 [==============================] - 0s 90us/sample - loss: 1.0054 - val_loss: 0.8727\n",
      "Epoch 96/100\n",
      "4750/4750 [==============================] - 0s 70us/sample - loss: 1.0033 - val_loss: 0.8709\n",
      "Epoch 97/100\n",
      "4750/4750 [==============================] - 0s 58us/sample - loss: 1.0012 - val_loss: 0.8692\n",
      "Epoch 98/100\n",
      "4750/4750 [==============================] - 0s 66us/sample - loss: 0.9991 - val_loss: 0.8674\n",
      "Epoch 99/100\n",
      "4750/4750 [==============================] - 0s 60us/sample - loss: 0.9970 - val_loss: 0.8656\n",
      "Epoch 100/100\n",
      "4750/4750 [==============================] - 0s 61us/sample - loss: 0.9949 - val_loss: 0.8638\n"
     ]
    }
   ],
   "source": [
    "early_stopping = EarlyStopping(monitor='val_loss', patience = 5)\n",
    "\n",
    "model = get_model()\n",
    "\n",
    "preds_on_untrained = model.predict(X_test)\n",
    "\n",
    "history = model.fit(\n",
    "    X_train, y_train,\n",
    "    validation_data = (X_test, y_test),\n",
    "    epochs = 100,\n",
    "    callbacks = [early_stopping]\n",
    ")"
   ]
  },
  {
   "cell_type": "markdown",
   "metadata": {},
   "source": [
    "## 6.2: Plot Training and Validation Loss\n",
    "\n",
    "Let's use the `plot_loss` helper function to take a look training and validation loss."
   ]
  },
  {
   "cell_type": "code",
   "execution_count": 12,
   "metadata": {},
   "outputs": [
    {
     "data": {
      "image/png": "[encoded data removed]",
      "text/plain": [
       "<Figure size 576x576 with 1 Axes>"
      ]
     },
     "metadata": {
      "needs_background": "light"
     },
     "output_type": "display_data"
    }
   ],
   "source": [
    "plot_loss(history)"
   ]
  },
  {
   "cell_type": "markdown",
   "metadata": {},
   "source": [
    "# Task 7: Predictions"
   ]
  },
  {
   "cell_type": "markdown",
   "metadata": {},
   "source": [
    "## 7.1: Plot Raw Predictions\n",
    "\n",
    "Let's use the `compare_predictions` helper function to compare predictions from the model when it was untrained and when it was trained."
   ]
  },
  {
   "cell_type": "code",
   "execution_count": 13,
   "metadata": {},
   "outputs": [
    {
     "data": {
      "image/png": "[encoded data removed]",
      "text/plain": [
       "<Figure size 576x576 with 1 Axes>"
      ]
     },
     "metadata": {
      "needs_background": "light"
     },
     "output_type": "display_data"
    }
   ],
   "source": [
    "preds_on_trained = model.predict(X_test)\n",
    "\n",
    "compare_predictions(preds_on_untrained, preds_on_trained, y_test)"
   ]
  },
  {
   "cell_type": "markdown",
   "metadata": {},
   "source": [
    "## 7.2: Plot Price Predictions\n",
    "\n",
    "The plot for price predictions and raw predictions will look the same with just one difference: The x and y axis scale is changed."
   ]
  },
  {
   "cell_type": "code",
   "execution_count": 14,
   "metadata": {},
   "outputs": [
    {
     "data": {
      "image/png": "[encoded data removed]",
      "text/plain": [
       "<Figure size 576x576 with 1 Axes>"
      ]
     },
     "metadata": {
      "needs_background": "light"
     },
     "output_type": "display_data"
    }
   ],
   "source": [
    "price_on_untrained = [convert_label_value(y) for y in preds_on_untrained]\n",
    "price_on_trained = [convert_label_value(y) for y in preds_on_trained]\n",
    "price_y_test = [convert_label_value(y) for y in y_test]\n",
    "\n",
    "compare_predictions(price_on_untrained, price_on_trained, price_y_test)"
   ]
  },
  {
   "cell_type": "code",
   "execution_count": null,
   "metadata": {},
   "outputs": [],
   "source": []
  }
 ],
 "metadata": {
  "kernelspec": {
   "display_name": "Python 3",
   "language": "python",
   "name": "python3"
  },
  "language_info": {
   "codemirror_mode": {
    "name": "ipython",
    "version": 3
   },
   "file_extension": ".py",
   "mimetype": "text/x-python",
   "name": "python",
   "nbconvert_exporter": "python",
   "pygments_lexer": "ipython3",
   "version": "3.7.9"
  }
 },
 "nbformat": 4,
 "nbformat_minor": 2
}
